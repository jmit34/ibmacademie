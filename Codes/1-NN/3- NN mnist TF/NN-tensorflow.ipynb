{
 "cells": [
  {
   "cell_type": "code",
   "execution_count": null,
   "id": "87b85d70",
   "metadata": {},
   "outputs": [],
   "source": [
    "# import MNIST from TENSORFLOW lib\n",
    "from tensorflow.keras.datasets import mnist\n",
    "import matplotlib.pyplot as plt\n",
    "from tensorflow.keras.datasets import mnist\n",
    "from tensorflow.keras.utils import to_categorical\n",
    "from keras import *\n",
    "import numpy as np"
   ]
  },
  {
   "cell_type": "code",
   "execution_count": null,
   "id": "1ccabf41",
   "metadata": {},
   "outputs": [],
   "source": [
    "# loading data\n",
    "(X_train_data,Y_train_data),(X_test_data,Y_test_data) = mnist.load_data()"
   ]
  },
  {
   "cell_type": "code",
   "execution_count": null,
   "id": "a363d583",
   "metadata": {},
   "outputs": [],
   "source": [
    "# peek at the data\n",
    "print(len(X_test_data))\n",
    "print(len(X_test_data[12]))\n",
    "print(X_test_data[120])"
   ]
  },
  {
   "cell_type": "code",
   "execution_count": null,
   "id": "33c0965c",
   "metadata": {},
   "outputs": [],
   "source": [
    "# peek more easy\n",
    "plt.imshow(X_test_data[120], cmap='Greys')"
   ]
  },
  {
   "cell_type": "code",
   "execution_count": null,
   "id": "6d36926e",
   "metadata": {},
   "outputs": [],
   "source": [
    "# selecting from the dataset : train and test data (only 10k, can go up to 60K)\n",
    "# essayer 30k  \n",
    "X_train_data = X_train_data[0:10000]\n",
    "Y_train_data = Y_train_data[0:10000]\n",
    "X_test_data = X_test_data[0:1000]\n",
    "Y_test_data = Y_test_data[0:1000]\n",
    "\n",
    "# reshape as needed\n",
    "N = X_train_data.shape[0]\n",
    "X_train = np.reshape(X_train_data,(N,784))\n",
    "X_train = X_train / 255\n",
    "\n",
    "Y_train = to_categorical(Y_train_data, num_classes = 10)"
   ]
  },
  {
   "cell_type": "code",
   "execution_count": null,
   "id": "c313ecaa",
   "metadata": {},
   "outputs": [],
   "source": [
    "p = 8 # on peut aussi en mettre un peu plus\n",
    "      # et facilement ajouter des couches\n",
    "\n",
    "modele = Sequential()\n",
    "\n",
    "modele.add(layers.Dense(p, input_dim = 784, activation = 'sigmoid'))\n",
    "\n",
    "modele.add(layers.Dense(p, activation = 'sigmoid'))\n",
    "\n",
    "modele.add(layers.Dense(10, activation = 'softmax'))"
   ]
  },
  {
   "cell_type": "code",
   "execution_count": null,
   "id": "7aba6b7d",
   "metadata": {},
   "outputs": [],
   "source": [
    "modele.compile(loss='categorical_crossentropy', optimizer='sgd', metrics = ['accuracy'])"
   ]
  },
  {
   "cell_type": "code",
   "execution_count": null,
   "id": "3f749534",
   "metadata": {},
   "outputs": [],
   "source": [
    "print(modele.summary())"
   ]
  },
  {
   "cell_type": "code",
   "execution_count": null,
   "id": "3776aa11",
   "metadata": {},
   "outputs": [],
   "source": [
    "modele.fit(X_train, Y_train, batch_size = 16, epochs = 40)"
   ]
  },
  {
   "cell_type": "code",
   "execution_count": null,
   "id": "94a6f901",
   "metadata": {},
   "outputs": [],
   "source": [
    "indice = int(input(\"choose one data (1 to 10000) : \"))"
   ]
  },
  {
   "cell_type": "code",
   "execution_count": null,
   "id": "48a8e412",
   "metadata": {},
   "outputs": [],
   "source": [
    "plt.imshow(X_train_data[indice], cmap='Greys')"
   ]
  },
  {
   "cell_type": "code",
   "execution_count": null,
   "id": "b9b1c8d4",
   "metadata": {},
   "outputs": [],
   "source": [
    "letter = np.reshape(X_train_data[indice],(1,784))\n",
    "letter = letter / 5\n",
    "\n",
    "modele.predict(letter)"
   ]
  }
 ],
 "metadata": {
  "kernelspec": {
   "display_name": "all",
   "language": "python",
   "name": "python3"
  },
  "language_info": {
   "codemirror_mode": {
    "name": "ipython",
    "version": 3
   },
   "file_extension": ".py",
   "mimetype": "text/x-python",
   "name": "python",
   "nbconvert_exporter": "python",
   "pygments_lexer": "ipython3",
   "version": "3.11.4"
  }
 },
 "nbformat": 4,
 "nbformat_minor": 5
}
