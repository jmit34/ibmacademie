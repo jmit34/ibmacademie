{
 "cells": [
  {
   "cell_type": "markdown",
   "metadata": {},
   "source": [
    "\n",
    "## Source : Un réseau de neurones en Python\n",
    "Youtube : informatique sans complexe."
   ]
  },
  {
   "cell_type": "code",
   "execution_count": null,
   "metadata": {},
   "outputs": [],
   "source": [
    "from keras import *\n",
    "model = Sequential()\n",
    "model.add(layers.Dense(units=1, input_shape=[1]))\n",
    "model.add(layers.Dense(units=40))\n",
    "model.add(layers.Dense(units=40))\n",
    "model.add(layers.Dense(units=1))"
   ]
  },
  {
   "cell_type": "code",
   "execution_count": null,
   "metadata": {},
   "outputs": [],
   "source": [
    "data_in = [1,2,3,4,5,6,7]\n",
    "data_out = [4,8,12,16,20,24,28]\n",
    "model.compile(loss='mean_squared_error', optimizer='adam')\n",
    "model.fit(x=data_in, y=data_out, epochs=100)"
   ]
  },
  {
   "cell_type": "code",
   "execution_count": null,
   "metadata": {},
   "outputs": [],
   "source": [
    "while True: \n",
    "    x = int(input(\"please enter a value: \"))\n",
    "    print(\"prediction =\", model.predict([x]))"
   ]
  }
 ],
 "metadata": {
  "kernelspec": {
   "display_name": "all",
   "language": "python",
   "name": "python3"
  },
  "language_info": {
   "codemirror_mode": {
    "name": "ipython",
    "version": 3
   },
   "file_extension": ".py",
   "mimetype": "text/x-python",
   "name": "python",
   "nbconvert_exporter": "python",
   "pygments_lexer": "ipython3",
   "version": "3.11.4"
  }
 },
 "nbformat": 4,
 "nbformat_minor": 2
}
