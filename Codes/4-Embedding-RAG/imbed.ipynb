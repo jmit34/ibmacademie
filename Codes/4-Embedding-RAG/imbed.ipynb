{
 "cells": [
  {
   "cell_type": "code",
   "execution_count": null,
   "id": "90bad4ce",
   "metadata": {},
   "outputs": [],
   "source": [
    "# bibliothèque Python pour acceder des imbeddings\n",
    "\n",
    "import gensim.downloader as api\n",
    "info = api.info()"
   ]
  },
  {
   "cell_type": "code",
   "execution_count": null,
   "id": "508f0f25",
   "metadata": {},
   "outputs": [],
   "source": [
    "# afficher ce qui est disponible\n",
    "# Nom, taille, commentaire/description\n",
    "for model_name, model_data in sorted(info[\"models\"].items()):\n",
    "    print(model_name, model_data.get('num_records'),model_data['description'])\n",
    "    print('-'*80)\n",
    "          \n"
   ]
  },
  {
   "cell_type": "code",
   "execution_count": null,
   "id": "07e4d8f8",
   "metadata": {},
   "outputs": [],
   "source": [
    "# on selectionne et on charge word2vec-google-news-300\n",
    "# 3 000 000 Pre-trained vectors trained on a part of the Google News dataset (about 100 billion words). The model contains 300-dimensional vectors for 3 million words and phrases\n",
    "\n",
    "wv = api.load('word2vec-google-news-300')"
   ]
  },
  {
   "cell_type": "code",
   "execution_count": null,
   "id": "a3af74fb",
   "metadata": {},
   "outputs": [],
   "source": [
    "wv.most_similar('drink', topn=20)"
   ]
  },
  {
   "cell_type": "code",
   "execution_count": null,
   "id": "21291a7c",
   "metadata": {},
   "outputs": [],
   "source": [
    "wv.distance(\"truck\",\"car\")"
   ]
  },
  {
   "cell_type": "code",
   "execution_count": null,
   "id": "9c3a54cf",
   "metadata": {},
   "outputs": [],
   "source": [
    "wv.distance(\"man\", \"woman\")"
   ]
  },
  {
   "cell_type": "code",
   "execution_count": null,
   "id": "cd526ba2",
   "metadata": {},
   "outputs": [],
   "source": [
    "wv.most_similar_cosmul(positive=[\"queen\"], negative = \"woman\")"
   ]
  },
  {
   "cell_type": "code",
   "execution_count": null,
   "id": "c7a46914",
   "metadata": {},
   "outputs": [],
   "source": [
    "wv.most_similar_cosmul(positive=[\"cocktail\", \"restaurant\"], negative = \"dinner\")"
   ]
  },
  {
   "cell_type": "code",
   "execution_count": null,
   "id": "78d23997",
   "metadata": {},
   "outputs": [],
   "source": [
    "dir(wv)"
   ]
  }
 ],
 "metadata": {
  "kernelspec": {
   "display_name": "all",
   "language": "python",
   "name": "python3"
  },
  "language_info": {
   "codemirror_mode": {
    "name": "ipython",
    "version": 3
   },
   "file_extension": ".py",
   "mimetype": "text/x-python",
   "name": "python",
   "nbconvert_exporter": "python",
   "pygments_lexer": "ipython3",
   "version": "3.11.4"
  }
 },
 "nbformat": 4,
 "nbformat_minor": 5
}
